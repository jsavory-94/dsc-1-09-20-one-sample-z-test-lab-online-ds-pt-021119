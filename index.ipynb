{
 "cells": [
  {
   "cell_type": "markdown",
   "metadata": {},
   "source": [
    "# One-sample z-test - Lab\n",
    "\n",
    "### Introduction\n",
    "In this lab we will go through quick tests to help you better understand the ideas around hypothesis testing.\n",
    "\n",
    "## Objectives\n",
    "You would be able to\n",
    "* Understand and explain use cases for a 1-sample z-test\n",
    "* Set up null and alternative hypotheses\n",
    "* Calculate z statistic using z-tables and cdf functions\n",
    "* Calculate and interpret p-value for significance of results."
   ]
  },
  {
   "cell_type": "markdown",
   "metadata": {},
   "source": [
    "## Exercise 1\n",
    "A rental car company claims the mean time to rent a car on their website is 60 seconds with a standard deviation of 30 seconds. A random sample of 36 customers attempted to rent a car on the website. The mean time to rent was 75 seconds. Is this enough evidence to contradict the company's claim? \n",
    "\n",
    "<img src=\"http://www.guptatravelsjabalpur.com/wp-content/uploads/2016/04/car-rentalservice.jpg\" width=400>\n",
    "\n",
    "Follow the 5 steps shown in previous lesson and use alpha = 0.05. "
   ]
  },
  {
   "cell_type": "code",
   "execution_count": 18,
   "metadata": {},
   "outputs": [
    {
     "name": "stdout",
     "output_type": "stream",
     "text": [
      "alternate hypothesis: mu < x_bar \n",
      "null hypothesis: mu >= x_bar\n"
     ]
    }
   ],
   "source": [
    "# State you null and alternative hypotheses\n",
    "x_bar = 75\n",
    "mu = 60\n",
    "n = 36\n",
    "sigma = 30\n",
    "a = 0.05\n",
    "\n",
    "\n",
    "print('alternate hypothesis: mu < x_bar ')\n",
    "print('null hypothesis: mu >= x_bar')"
   ]
  },
  {
   "cell_type": "code",
   "execution_count": 17,
   "metadata": {},
   "outputs": [
    {
     "name": "stdout",
     "output_type": "stream",
     "text": [
      "p = 0.0013498980316301035, z = 3.0\n"
     ]
    }
   ],
   "source": [
    "# Your solution here\n",
    "import math\n",
    "import scipy.stats as stats\n",
    "\n",
    "z = (x_bar - mu)/(sigma/math.sqrt(n))\n",
    "z\n",
    "\n",
    "p = 1- stats.norm.cdf(z)\n",
    "\n",
    "print(f'p = {p}, z = {z}' )\n",
    "# (p = 0.0013498980316301035, z = 3.0)"
   ]
  },
  {
   "cell_type": "code",
   "execution_count": 21,
   "metadata": {},
   "outputs": [
    {
     "name": "stdout",
     "output_type": "stream",
     "text": [
      "Because the p value of 0.0013498980316301035 is less than alpha of 0.05 there is strong evidence to reject the null hypothesis, meaning there is enough evidence to reject the company's claim that the mean time is only 60 seconds\n"
     ]
    }
   ],
   "source": [
    "# Interpret the results in terms of p-value obtained\n",
    "print(f'Because the p value of {p} is less than alpha of {a} there is strong evidence to reject the null hypothesis, meaning there is enough evidence to reject the company\\'s claim that the mean time is only 60 seconds' )"
   ]
  },
  {
   "cell_type": "markdown",
   "metadata": {},
   "source": [
    "## Exercise 2\n",
    "\n",
    "Twenty five students complete a preparation program for taking the SAT test.  Here are the SAT scores from the 25 students who completed  program:\n",
    "\n",
    "``\n",
    "434 694 457 534 720 400 484 478 610 641 425 636 454\n",
    "514 563 370 499 640 501 625 612 471 598 509 531\n",
    "``\n",
    "\n",
    "<img src=\"http://falearningsolutions.com/wp-content/uploads/2015/09/FAcogtrain71FBimage.jpg\" width=400>\n",
    "\n",
    "We know that the population average for SAT scores is 500 with a standard deviation of 100.\n",
    "\n",
    "The question is, are these students’ SAT scores significantly greater than a population mean? \n",
    "\n",
    "*Note that the the maker of the SAT prep program claims that it will increase (and not decrease) your SAT score.  So, you would be justified in conducting a one-directional test. (alpha = .05).*\n",
    "\n"
   ]
  },
  {
   "cell_type": "code",
   "execution_count": 37,
   "metadata": {},
   "outputs": [
    {
     "name": "stdout",
     "output_type": "stream",
     "text": [
      "alternate hypothesis: mu < x_bar \n",
      "null hypothesis: mu >= x_bar\n"
     ]
    }
   ],
   "source": [
    "# State your hypotheses \n",
    "print('alternate hypothesis: mu < x_bar ')\n",
    "print('null hypothesis: mu >= x_bar')"
   ]
  },
  {
   "cell_type": "code",
   "execution_count": 38,
   "metadata": {},
   "outputs": [
    {
     "name": "stdout",
     "output_type": "stream",
     "text": [
      "p = 0.03593031911292577, z = 1.8\n"
     ]
    }
   ],
   "source": [
    "# Give your solution here \n",
    "scores = [434, 694, 457, 534, 720, 400, 484, 478, 610, 641, 425, 636, 454,\n",
    "514, 563, 370, 499, 640, 501, 625, 612, 471, 598, 509, 531]\n",
    "\n",
    "x_bar2 = sum(scores)/len(scores)\n",
    "mu2 = 500\n",
    "n2 = len(scores)\n",
    "sigma2 = 100\n",
    "a2 = 0.05\n",
    "\n",
    "\n",
    "z2 = (x_bar2 - mu2)/(sigma2/math.sqrt(n2))\n",
    "z2\n",
    "\n",
    "p2 = 1- stats.norm.cdf(z2)\n",
    "\n",
    "print(f'p = {p2}, z = {z2}')\n",
    "# p = 0.03593031911292577, z = 1.8"
   ]
  },
  {
   "cell_type": "code",
   "execution_count": 39,
   "metadata": {},
   "outputs": [
    {
     "name": "stdout",
     "output_type": "stream",
     "text": [
      "Because the p value of 0.0013498980316301035 is less than alpha of 0.05 there is strong evidence to reject the null hypothesis, meaning there is enough evidence to reject the claim that those who completed the program did no better than the rest of the population\n"
     ]
    }
   ],
   "source": [
    "# Interpret the results in terms of p-value obtained\n",
    "print(f'Because the p value of {p} is less than alpha of {a} there is strong evidence to reject the null hypothesis, meaning there is enough evidence to reject the claim that those who completed the program did no better than the rest of the population' )"
   ]
  },
  {
   "cell_type": "markdown",
   "metadata": {},
   "source": [
    "## Summary\n",
    "\n",
    "In this lesson, we conducted a couple of simple tests comparing sample and population means, in an attempt to reject our null hypotheses. This provides you with a strong foundation to move ahead with more advanced tests and approaches in statistics. "
   ]
  },
  {
   "cell_type": "code",
   "execution_count": null,
   "metadata": {},
   "outputs": [],
   "source": []
  }
 ],
 "metadata": {
  "kernelspec": {
   "display_name": "Python 3",
   "language": "python",
   "name": "python3"
  },
  "language_info": {
   "codemirror_mode": {
    "name": "ipython",
    "version": 3
   },
   "file_extension": ".py",
   "mimetype": "text/x-python",
   "name": "python",
   "nbconvert_exporter": "python",
   "pygments_lexer": "ipython3",
   "version": "3.6.5"
  }
 },
 "nbformat": 4,
 "nbformat_minor": 2
}
